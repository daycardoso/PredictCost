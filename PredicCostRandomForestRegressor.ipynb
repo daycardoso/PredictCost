{
  "nbformat": 4,
  "nbformat_minor": 0,
  "metadata": {
    "colab": {
      "provenance": [],
      "authorship_tag": "ABX9TyMD+7oZs9bjkaAMZyaqoykF",
      "include_colab_link": true
    },
    "kernelspec": {
      "name": "python3",
      "display_name": "Python 3"
    },
    "language_info": {
      "name": "python"
    }
  },
  "cells": [
    {
      "cell_type": "markdown",
      "metadata": {
        "id": "view-in-github",
        "colab_type": "text"
      },
      "source": [
        "<a href=\"https://colab.research.google.com/github/daycardoso/PredictCost/blob/main/PredicCostRandomForestRegressor.ipynb\" target=\"_parent\"><img src=\"https://colab.research.google.com/assets/colab-badge.svg\" alt=\"Open In Colab\"/></a>"
      ]
    },
    {
      "cell_type": "code",
      "execution_count": 1,
      "metadata": {
        "id": "VE2h1wBG4J_m",
        "colab": {
          "base_uri": "https://localhost:8080/"
        },
        "outputId": "50168555-ec1d-410e-99b8-3505b5edf807"
      },
      "outputs": [
        {
          "output_type": "stream",
          "name": "stdout",
          "text": [
            "Mounted at /content/drive\n"
          ]
        }
      ],
      "source": [
        "from google.colab import drive\n",
        "drive.mount('/content/drive')"
      ]
    },
    {
      "cell_type": "code",
      "source": [
        "import pandas as pd\n",
        "# Carregar o datset unificado\n",
        "df_unificado = pd.read_csv('/content/drive/MyDrive/Trabalho ML Mestrado 01-2025/df_unificado.csv')\n",
        "\n",
        "# matriz contendo os atributos\n",
        "X = df_unificado.iloc[:, :-1].values\n",
        "\n",
        "# vetor contendo o custo, ou seja, a ultima coluna\n",
        "y = df_unificado.iloc[:, -1].values\n",
        "\n",
        "# nome de cada atributo\n",
        "feature_names = df_unificado.columns[:-1]\n",
        "\n",
        "# nome de cada classe\n",
        "target_names = df_unificado.columns[-1]\n",
        "\n",
        "print(f\"Dimensões de X: {X.shape}\\n\")\n",
        "print(f\"Dimensões de y: {y.shape}\\n\")\n",
        "print(f\"Nomes dos atributos: {feature_names}\\n\")\n",
        "print(f\"Nomes das classes: {target_names}\")"
      ],
      "metadata": {
        "colab": {
          "base_uri": "https://localhost:8080/"
        },
        "id": "ngyQDegT5nd5",
        "outputId": "dc78eaf3-0df3-49cf-ae3e-616fead20476"
      },
      "execution_count": 2,
      "outputs": [
        {
          "output_type": "stream",
          "name": "stdout",
          "text": [
            "Dimensões de X: (6336328, 8)\n",
            "\n",
            "Dimensões de y: (6336328,)\n",
            "\n",
            "Nomes dos atributos: Index(['x0', 'y0', 'theta0', 'beta0', 'xf', 'yf', 'thetaf', 'betaf'], dtype='object')\n",
            "\n",
            "Nomes das classes: cost\n"
          ]
        }
      ]
    },
    {
      "cell_type": "code",
      "source": [
        "from sklearn.model_selection import train_test_split, RepeatedKFold, cross_validate\n",
        "\n",
        "# 1) Cria um hold-out antes de qualquer CV\n",
        "X_train_full, X_test, y_train_full, y_test = train_test_split(\n",
        "    X, y, test_size=0.2, random_state=42, shuffle=True\n",
        ")"
      ],
      "metadata": {
        "id": "OdfIhoyA6QGV"
      },
      "execution_count": 3,
      "outputs": []
    },
    {
      "cell_type": "code",
      "source": [
        "from sklearn.pipeline import Pipeline\n",
        "from sklearn.impute import SimpleImputer\n",
        "from sklearn.ensemble import RandomForestRegressor\n",
        "\n",
        "pipeline = Pipeline([\n",
        "    ('regressor', RandomForestRegressor(random_state=42,\n",
        "                                        criterion='absolute_error',\n",
        "                                        max_depth=20,\n",
        "                                        n_jobs=-1))\n",
        "    ])\n"
      ],
      "metadata": {
        "id": "FX9OCoDJ6Trm"
      },
      "execution_count": 4,
      "outputs": []
    },
    {
      "cell_type": "code",
      "source": [
        "from sklearn.model_selection import RepeatedKFold\n",
        "\n",
        "# 5×5 CV repetida: balanceia viés x variância na estimação\n",
        "cv = RepeatedKFold(n_splits=5, n_repeats=5, random_state=42)\n"
      ],
      "metadata": {
        "id": "s4P-Ofue9hxl"
      },
      "execution_count": 5,
      "outputs": []
    },
    {
      "cell_type": "code",
      "source": [
        "from sklearn.model_selection import cross_validate\n",
        "\n",
        "scoring = {\n",
        "    'R2': 'r2',\n",
        "    'MSE': 'neg_mean_squared_error',\n",
        "    'MAE': 'neg_mean_absolute_error',\n",
        "    'MAPE': 'neg_mean_absolute_percentage_error',\n",
        "    'MedAE': 'neg_median_absolute_error',\n",
        "    'MaxE': 'max_error',\n",
        "    'EVS': 'explained_variance',\n",
        "}\n",
        "\n",
        "cv_results = cross_validate(\n",
        "    pipeline, X_train_full, y_train_full,\n",
        "    cv=cv, scoring=scoring, return_train_score=True, n_jobs=-1\n",
        ")"
      ],
      "metadata": {
        "id": "W2cfQmcs90M5"
      },
      "execution_count": null,
      "outputs": []
    },
    {
      "cell_type": "code",
      "source": [
        "# Treinar o modelo\n",
        "# pipeline.fit(X_train_full, y_train_full)\n",
        "modelo = pipeline.fit(X_train_full, y_train_full)"
      ],
      "metadata": {
        "id": "OyuwAAhb90Lt"
      },
      "execution_count": null,
      "outputs": []
    },
    {
      "cell_type": "code",
      "source": [
        "# 5) Gera predições no hold-out\n",
        "y_pred = pipeline.predict(X_test)"
      ],
      "metadata": {
        "id": "Wck1-UUiBNEu"
      },
      "execution_count": null,
      "outputs": []
    },
    {
      "cell_type": "code",
      "source": [
        "\n",
        "# 6) Salva TUDO num dict\n",
        "full_results = {\n",
        "    'pipeline': pipeline,\n",
        "    'X_test':   X_test,\n",
        "    'y_test':   y_test,\n",
        "    'y_pred':   y_pred,\n",
        "    'cv_results': cv_results,\n",
        "    'feature_names': feature_names\n",
        "}\n",
        "joblib.dump(full_results, '/content/drive/MyDrive/Trabalho ML Mestrado 01-2025/randon_forest_regressor_full_results.pkl')"
      ],
      "metadata": {
        "id": "1qEObv-3BUi8"
      },
      "execution_count": null,
      "outputs": []
    },
    {
      "cell_type": "code",
      "source": [
        "import joblib\n",
        "import pandas as pd\n",
        "import numpy as np\n",
        "import matplotlib.pyplot as plt\n",
        "from sklearn.metrics import (\n",
        "    r2_score,\n",
        "    mean_squared_error,\n",
        "    mean_absolute_error,\n",
        "    mean_absolute_percentage_error,\n",
        "    median_absolute_error,\n",
        "    max_error,\n",
        "    explained_variance_score\n",
        ")\n",
        "from IPython.display import display\n",
        "\n",
        "# Carregar resultados\n",
        "res = joblib.load('/content/drive/MyDrive/Trabalho ML Mestrado 01-2025/randon_forest_regressor_full_results.pkl')\n",
        "model         = res['pipeline']\n",
        "X_test        = res['X_test']\n",
        "y_true        = res['y_test']\n",
        "y_pred        = res.get('y_pred', model.predict(X_test))\n",
        "feature_names = res.get('feature_names', getattr(X_test, 'columns', None))\n",
        "\n",
        "# 1) Exibir métricas em tabela\n",
        "metrics = {\n",
        "    'R² Score'           : r2_score(y_true, y_pred),\n",
        "    'MSE'                 : mean_squared_error(y_true, y_pred),\n",
        "    'MAE'                 : mean_absolute_error(y_true, y_pred),\n",
        "    'MAPE'                : mean_absolute_percentage_error(y_true, y_pred),\n",
        "    'Median AE'           : median_absolute_error(y_true, y_pred),\n",
        "    'Max Error'           : max_error(y_true, y_pred),\n",
        "    'Explained Variance'  : explained_variance_score(y_true, y_pred)\n",
        "}\n",
        "df_metrics = pd.DataFrame.from_dict(metrics, orient='index', columns=['Valor']).round(4)\n",
        "display(df_metrics)\n",
        "\n",
        "# 2) Scatter Real vs Predito\n",
        "plt.figure()\n",
        "plt.scatter(y_true, y_pred)\n",
        "min_val, max_val = np.min([y_true.min(), y_pred.min()]), np.max([y_true.max(), y_pred.max()])\n",
        "plt.plot([min_val, max_val], [min_val, max_val])\n",
        "plt.xlabel('Valor Real')\n",
        "plt.ylabel('Valor Predito')\n",
        "plt.title('Real vs Predito')\n",
        "plt.show()\n",
        "\n",
        "# 3) Histograma de resíduos\n",
        "residuals = y_true - y_pred\n",
        "plt.figure()\n",
        "plt.hist(residuals, bins=50)\n",
        "plt.xlabel('Resíduo (Real - Predito)')\n",
        "plt.title('Histograma de Resíduos')\n",
        "plt.show()\n",
        "\n",
        "# 4) Boxplot de resíduos por quartil\n",
        "df_r = pd.DataFrame({'Real': y_true, 'Resíduo': residuals})\n",
        "df_r['Quartil'] = pd.qcut(df_r['Real'], 4, labels=[1, 2, 3, 4])\n",
        "groups = [df_r[df_r['Quartil'] == q]['Resíduo'] for q in sorted(df_r['Quartil'].unique())]\n",
        "plt.figure()\n",
        "plt.boxplot(groups, labels=sorted(df_r['Quartil'].unique()))\n",
        "plt.xlabel('Quartil de Valor Real')\n",
        "plt.ylabel('Resíduo')\n",
        "plt.title('Boxplot de Resíduos por Quartil')\n",
        "plt.show()\n",
        "\n",
        "# 5) Importância das features (se aplicável)\n",
        "if hasattr(model, 'feature_importances_') and feature_names is not None:\n",
        "    fi = pd.Series(model.feature_importances_, index=feature_names).sort_values(ascending=False)\n",
        "    plt.figure(figsize=(8, 4))\n",
        "    fi.plot(kind='bar')\n",
        "    plt.ylabel('Importância')\n",
        "    plt.title('Importância das Features')\n",
        "    plt.tight_layout()\n",
        "    plt.show()"
      ],
      "metadata": {
        "id": "u5cBtu9EBcET"
      },
      "execution_count": null,
      "outputs": []
    }
  ]
}