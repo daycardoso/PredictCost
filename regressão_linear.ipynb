{
  "nbformat": 4,
  "nbformat_minor": 0,
  "metadata": {
    "colab": {
      "provenance": [],
      "gpuType": "T4",
      "authorship_tag": "ABX9TyNfcS2jXlROLVnLZn+Qnr6x",
      "include_colab_link": true
    },
    "kernelspec": {
      "name": "python3",
      "display_name": "Python 3"
    },
    "language_info": {
      "name": "python"
    },
    "accelerator": "GPU"
  },
  "cells": [
    {
      "cell_type": "markdown",
      "metadata": {
        "id": "view-in-github",
        "colab_type": "text"
      },
      "source": [
        "<a href=\"https://colab.research.google.com/github/daycardoso/PredictCost/blob/main/regress%C3%A3o_linear.ipynb\" target=\"_parent\"><img src=\"https://colab.research.google.com/assets/colab-badge.svg\" alt=\"Open In Colab\"/></a>"
      ]
    },
    {
      "cell_type": "code",
      "execution_count": 1,
      "metadata": {
        "colab": {
          "base_uri": "https://localhost:8080/"
        },
        "id": "H9pz4sIlMeko",
        "outputId": "58a8e109-e277-45c2-b3eb-890256d9bfbe"
      },
      "outputs": [
        {
          "output_type": "stream",
          "name": "stdout",
          "text": [
            "Mounted at /content/drive\n"
          ]
        }
      ],
      "source": [
        "from google.colab import drive\n",
        "drive.mount('/content/drive')"
      ]
    },
    {
      "cell_type": "code",
      "source": [
        "import pandas as pd\n",
        "import cudf\n",
        "import cupy as cp\n",
        "from cuml.linear_model import LinearRegression as cuLR\n",
        "from sklearn.linear_model import LinearRegression as skLR\n",
        "from sklearn.model_selection import train_test_split\n",
        "from sklearn.metrics import mean_squared_error, r2_score, mean_absolute_error\n",
        "\n",
        "# =====================\n",
        "# 1. Carregamento dos Dados\n",
        "# =====================\n",
        "try:\n",
        "    df_cudf = cudf.read_csv('/content/drive/MyDrive/Mestrado/Trabalho ML Mestrado 01-2025/df_unificado.csv')\n",
        "except:\n",
        "    df_pd = pd.read_csv('/content/drive/MyDrive/Mestrado/Trabalho ML Mestrado 01-2025/df_unificado.csv')\n",
        "    df_cudf = cudf.from_pandas(df_pd)\n",
        "\n",
        "# Conversão para float32\n",
        "for col in df_cudf.select_dtypes(include=['float64']).columns:\n",
        "    df_cudf[col] = df_cudf[col].astype(cp.float32)\n",
        "\n",
        "X = df_cudf.iloc[:, :-1]\n",
        "y = df_cudf.iloc[:, -1]\n",
        "\n",
        "# =====================\n",
        "# 2. Divisão treino/teste\n",
        "# =====================\n",
        "X_train, X_test, y_train, y_test = train_test_split(X, y, test_size=0.2, random_state=42)\n",
        "\n",
        "# =====================\n",
        "# 3. Treinamento do modelo\n",
        "# =====================\n",
        "try:\n",
        "    linear_regression_model = cuLR()\n",
        "    linear_regression_model.fit(X_train, y_train)\n",
        "    y_pred = linear_regression_model.predict(X_test)\n",
        "except Exception as e:\n",
        "    print(\"cuML falhou, usando scikit-learn:\", e)\n",
        "    X_train_pd = X_train.to_pandas() if hasattr(X_train, \"to_pandas\") else X_train\n",
        "    y_train_pd = y_train.to_pandas() if hasattr(y_train, \"to_pandas\") else y_train\n",
        "    X_test_pd = X_test.to_pandas() if hasattr(X_test, \"to_pandas\") else X_test\n",
        "\n",
        "    linear_regression_model = skLR()\n",
        "    linear_regression_model.fit(X_train_pd, y_train_pd)\n",
        "    y_pred = linear_regression_model.predict(X_test_pd)\n",
        "\n",
        "# =====================\n",
        "# 4. Avaliação\n",
        "# =====================\n",
        "y_test_cpu = y_test.to_pandas() if hasattr(y_test, \"to_pandas\") else y_test\n",
        "y_pred_cpu = y_pred.to_pandas() if hasattr(y_pred, \"to_pandas\") else y_pred\n",
        "\n",
        "print(\"R²:\", r2_score(y_test_cpu, y_pred_cpu))\n",
        "print(\"MSE:\", mean_squared_error(y_test_cpu, y_pred_cpu))\n",
        "print(\"MAE:\", mean_absolute_error(y_test_cpu, y_pred_cpu))\n"
      ],
      "metadata": {
        "colab": {
          "base_uri": "https://localhost:8080/"
        },
        "id": "VZlT-WTZMjWK",
        "outputId": "7a8fa05d-4dae-47bf-e52c-3f1900621af8"
      },
      "execution_count": 4,
      "outputs": [
        {
          "output_type": "stream",
          "name": "stderr",
          "text": [
            "/usr/local/lib/python3.11/dist-packages/cudf/core/dataframe.py:7737: FutureWarning: Using `__dataframe__` is deprecated\n",
            "  warnings.warn(\"Using `__dataframe__` is deprecated\", FutureWarning)\n"
          ]
        },
        {
          "output_type": "stream",
          "name": "stdout",
          "text": [
            "R²: 0.712709550510821\n",
            "MSE: 0.001094289967591171\n",
            "MAE: 0.02773324448692172\n"
          ]
        }
      ]
    },
    {
      "cell_type": "code",
      "source": [
        "import numpy as np\n",
        "# Import garbage collector for memory cleanup\n",
        "import gc\n",
        "\n",
        "def nested_cv_linear_evaluation(X, y, outer_folds=5, random_state=42):\n",
        "    from sklearn.model_selection import KFold\n",
        "    # Import cuML and scikit-learn LinearRegression classes here as well\n",
        "    from cuml.linear_model import LinearRegression as cuLR\n",
        "    from sklearn.linear_model import LinearRegression as skLR\n",
        "\n",
        "    outer_cv = KFold(n_splits=outer_folds, shuffle=True, random_state=random_state)\n",
        "    outer_scores = []\n",
        "\n",
        "    # Determine which linear regression class to use (cuML or scikit-learn)\n",
        "    # Based on the previous success or failure\n",
        "    # We assume if the first model run failed, subsequent ones will too,\n",
        "    # so we check the type of the existing linear_regression_model\n",
        "    if isinstance(linear_regression_model, cuLR):\n",
        "        ModelClass = cuLR\n",
        "        print(\"Using cuML Linear Regression in Nested CV\")\n",
        "    else:\n",
        "        ModelClass = skLR\n",
        "        print(\"Using scikit-learn Linear Regression in Nested CV\")\n",
        "\n",
        "\n",
        "    for fold_idx, (train_idx, test_idx) in enumerate(outer_cv.split(X), 1):\n",
        "        # Ensure data is in the correct format for the chosen model library\n",
        "        if ModelClass is skLR and hasattr(X, 'to_pandas'):\n",
        "            X_tr, X_te = X.iloc[train_idx].to_pandas(), X.iloc[test_idx].to_pandas()\n",
        "            y_tr, y_te = y.iloc[train_idx].to_pandas(), y.iloc[test_idx].to_pandas()\n",
        "        else: # cuML or data is already not a cuDF object\n",
        "            X_tr, X_te = X.iloc[train_idx], X.iloc[test_idx]\n",
        "            y_tr, y_te = y.iloc[train_idx], y.iloc[test_idx]\n",
        "\n",
        "        # Create a NEW instance of the model class for this fold\n",
        "        model = ModelClass()\n",
        "        model.fit(X_tr, y_tr)\n",
        "        y_pred = model.predict(X_te)\n",
        "\n",
        "        # Ensure predictions and test targets are on CPU for evaluation\n",
        "        y_te_cpu = y_te.to_pandas() if hasattr(y_te, \"to_pandas\") else y_te\n",
        "        y_pred_cpu = y_pred.to_pandas() if hasattr(y_pred, \"to_pandas\") else y_pred\n",
        "\n",
        "\n",
        "        mse = float(mean_squared_error(y_te_cpu, y_pred_cpu))\n",
        "        outer_scores.append(mse)\n",
        "\n",
        "        print(f\"[Linear] Fold {fold_idx}/{outer_folds} - MSE: {mse:.4f}\")\n",
        "\n",
        "        # Libera memória\n",
        "        del model, X_tr, X_te, y_tr, y_te, y_pred, y_te_cpu, y_pred_cpu\n",
        "        gc.collect()\n",
        "        cp.get_default_memory_pool().free_all_blocks()\n",
        "\n",
        "    return float(np.mean(outer_scores))"
      ],
      "metadata": {
        "id": "jChBN6F3Ng7l"
      },
      "execution_count": 8,
      "outputs": []
    },
    {
      "cell_type": "code",
      "source": [
        "# === Dados já carregados como X_cudf, y_cudf ===\n",
        "\n",
        "# Avaliação do modelo linear com Nested CV (sem tuning)\n",
        "linear_mse = nested_cv_linear_evaluation(X, y)\n",
        "print(f\"\\nMSE médio Linear Regression (Nested CV): {linear_mse:.4f}\")\n",
        "\n",
        "# Definição do Random Forest com melhores hiperparâmetros encontrados antes\n",
        "# rf_cls = lambda: cuRF(random_state=42, n_streams=1, **chosen_rf)\n",
        "\n",
        "# Comparação estatística: Linear vs RF\n",
        "# t_stat, p_val = five_two_cv_ttest_gpu(linear_regression_model, rf_cls, X_cudf, y_cudf)\n",
        "# print(f\"\\n5×2-cv t-test (Linear vs RF): t = {t_stat:.4f}, p = {p_val:.4f}\")\n"
      ],
      "metadata": {
        "colab": {
          "base_uri": "https://localhost:8080/"
        },
        "id": "jc7u4EXWOx2H",
        "outputId": "6328cfc9-ade5-4254-894a-c3141de85b02"
      },
      "execution_count": 9,
      "outputs": [
        {
          "output_type": "stream",
          "name": "stdout",
          "text": [
            "Using cuML Linear Regression in Nested CV\n"
          ]
        },
        {
          "output_type": "stream",
          "name": "stderr",
          "text": [
            "/usr/local/lib/python3.11/dist-packages/cudf/core/dataframe.py:7737: FutureWarning: Using `__dataframe__` is deprecated\n",
            "  warnings.warn(\"Using `__dataframe__` is deprecated\", FutureWarning)\n"
          ]
        },
        {
          "output_type": "stream",
          "name": "stdout",
          "text": [
            "[Linear] Fold 1/5 - MSE: 0.0011\n"
          ]
        },
        {
          "output_type": "stream",
          "name": "stderr",
          "text": [
            "/usr/local/lib/python3.11/dist-packages/cudf/core/dataframe.py:7737: FutureWarning: Using `__dataframe__` is deprecated\n",
            "  warnings.warn(\"Using `__dataframe__` is deprecated\", FutureWarning)\n"
          ]
        },
        {
          "output_type": "stream",
          "name": "stdout",
          "text": [
            "[Linear] Fold 2/5 - MSE: 0.0011\n"
          ]
        },
        {
          "output_type": "stream",
          "name": "stderr",
          "text": [
            "/usr/local/lib/python3.11/dist-packages/cudf/core/dataframe.py:7737: FutureWarning: Using `__dataframe__` is deprecated\n",
            "  warnings.warn(\"Using `__dataframe__` is deprecated\", FutureWarning)\n"
          ]
        },
        {
          "output_type": "stream",
          "name": "stdout",
          "text": [
            "[Linear] Fold 3/5 - MSE: 0.0011\n"
          ]
        },
        {
          "output_type": "stream",
          "name": "stderr",
          "text": [
            "/usr/local/lib/python3.11/dist-packages/cudf/core/dataframe.py:7737: FutureWarning: Using `__dataframe__` is deprecated\n",
            "  warnings.warn(\"Using `__dataframe__` is deprecated\", FutureWarning)\n"
          ]
        },
        {
          "output_type": "stream",
          "name": "stdout",
          "text": [
            "[Linear] Fold 4/5 - MSE: 0.0011\n"
          ]
        },
        {
          "output_type": "stream",
          "name": "stderr",
          "text": [
            "/usr/local/lib/python3.11/dist-packages/cudf/core/dataframe.py:7737: FutureWarning: Using `__dataframe__` is deprecated\n",
            "  warnings.warn(\"Using `__dataframe__` is deprecated\", FutureWarning)\n"
          ]
        },
        {
          "output_type": "stream",
          "name": "stdout",
          "text": [
            "[Linear] Fold 5/5 - MSE: 0.0011\n",
            "\n",
            "MSE médio Linear Regression (Nested CV): 0.0011\n"
          ]
        }
      ]
    },
    {
      "cell_type": "code",
      "source": [
        "import time\n",
        "\n",
        "def measure_inference_time(model, X_test, n_repeats=5):\n",
        "    \"\"\"\n",
        "    Mede o tempo médio de inferência por amostra.\n",
        "    Repete a medição 'n_repeats' vezes para reduzir ruído.\n",
        "    \"\"\"\n",
        "    total_times = []\n",
        "    for _ in range(n_repeats):\n",
        "        start = time.perf_counter()\n",
        "        y_pred = model.predict(X_test)\n",
        "        end = time.perf_counter()\n",
        "        total_times.append(end - start)\n",
        "\n",
        "    avg_total_time = sum(total_times) / len(total_times)\n",
        "    time_per_sample = avg_total_time / len(X_test)\n",
        "    return time_per_sample\n"
      ],
      "metadata": {
        "id": "U-D49Vt7PxvP"
      },
      "execution_count": 10,
      "outputs": []
    },
    {
      "cell_type": "code",
      "source": [
        "# Após modelo.fit(...)\n",
        "X_test_eval = X_test.to_pandas() if hasattr(X_test, \"to_pandas\") else X_test\n",
        "inference_time = measure_inference_time(linear_regression_model, X_test_eval)\n",
        "print(f\"Tempo médio de inferência por amostra (Linear): {inference_time * 1000:.3f} ms\")\n"
      ],
      "metadata": {
        "colab": {
          "base_uri": "https://localhost:8080/"
        },
        "id": "AWetqLRSP0Mk",
        "outputId": "08c23886-81f1-4851-e1e9-0987f340ec8d"
      },
      "execution_count": 12,
      "outputs": [
        {
          "output_type": "stream",
          "name": "stdout",
          "text": [
            "Tempo médio de inferência por amostra (Linear): 0.000 ms\n"
          ]
        }
      ]
    }
  ]
}