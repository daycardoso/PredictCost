{
  "nbformat": 4,
  "nbformat_minor": 0,
  "metadata": {
    "colab": {
      "provenance": [],
      "gpuType": "T4",
      "authorship_tag": "ABX9TyMyG62CgiseQapk7CQ5hACu",
      "include_colab_link": true
    },
    "kernelspec": {
      "name": "python3",
      "display_name": "Python 3"
    },
    "language_info": {
      "name": "python"
    },
    "accelerator": "GPU"
  },
  "cells": [
    {
      "cell_type": "markdown",
      "metadata": {
        "id": "view-in-github",
        "colab_type": "text"
      },
      "source": [
        "<a href=\"https://colab.research.google.com/github/daycardoso/PredictCost/blob/main/regress%C3%A3o_linear.ipynb\" target=\"_parent\"><img src=\"https://colab.research.google.com/assets/colab-badge.svg\" alt=\"Open In Colab\"/></a>"
      ]
    },
    {
      "cell_type": "code",
      "execution_count": 23,
      "metadata": {
        "colab": {
          "base_uri": "https://localhost:8080/"
        },
        "id": "H9pz4sIlMeko",
        "outputId": "f537e359-972d-4190-be3b-55015bb0248a"
      },
      "outputs": [
        {
          "output_type": "stream",
          "name": "stdout",
          "text": [
            "Drive already mounted at /content/drive; to attempt to forcibly remount, call drive.mount(\"/content/drive\", force_remount=True).\n"
          ]
        }
      ],
      "source": [
        "from google.colab import drive\n",
        "drive.mount('/content/drive')"
      ]
    },
    {
      "cell_type": "code",
      "source": [
        "import pandas as pd\n",
        "import cudf\n",
        "import cupy as cp\n",
        "from cuml.linear_model import LinearRegression as cuLR\n",
        "from sklearn.linear_model import LinearRegression as skLR\n",
        "from sklearn.model_selection import train_test_split\n",
        "from sklearn.metrics import mean_squared_error, r2_score, mean_absolute_error\n",
        "\n",
        "# =====================\n",
        "# 1. Carregamento dos Dados\n",
        "# =====================\n",
        "try:\n",
        "    df_cudf = cudf.read_csv('/content/drive/MyDrive/Mestrado/Trabalho ML Mestrado 01-2025/df_unificado.csv')\n",
        "except:\n",
        "    df_pd = pd.read_csv('/content/drive/MyDrive/Mestrado/Trabalho ML Mestrado 01-2025/df_unificado.csv')\n",
        "    df_cudf = cudf.from_pandas(df_pd)\n",
        "\n",
        "# Conversão para float32\n",
        "for col in df_cudf.select_dtypes(include=['float64']).columns:\n",
        "    df_cudf[col] = df_cudf[col].astype(cp.float32)\n",
        "\n",
        "X = df_cudf.iloc[:, :-1]\n",
        "y = df_cudf.iloc[:, -1]\n",
        "\n",
        "# =====================\n",
        "# 2. Divisão treino/teste\n",
        "# =====================\n",
        "X_train, X_test, y_train, y_test = train_test_split(X, y, test_size=0.2, random_state=42)\n",
        "\n",
        "# =====================\n",
        "# 3. Treinamento do modelo\n",
        "# =====================\n",
        "try:\n",
        "    linear_regression_model = cuLR()\n",
        "    linear_regression_model.fit(X_train, y_train)\n",
        "    y_pred = linear_regression_model.predict(X_test)\n",
        "except Exception as e:\n",
        "    print(\"cuML falhou, usando scikit-learn:\", e)\n",
        "    X_train_pd = X_train.to_pandas() if hasattr(X_train, \"to_pandas\") else X_train\n",
        "    y_train_pd = y_train.to_pandas() if hasattr(y_train, \"to_pandas\") else y_train\n",
        "    X_test_pd = X_test.to_pandas() if hasattr(X_test, \"to_pandas\") else X_test\n",
        "\n",
        "    linear_regression_model = skLR()\n",
        "    linear_regression_model.fit(X_train_pd, y_train_pd)\n",
        "    y_pred = linear_regression_model.predict(X_test_pd)\n",
        "\n",
        "# =====================\n",
        "# 4. Avaliação\n",
        "# =====================\n",
        "y_test_cpu = y_test.to_pandas() if hasattr(y_test, \"to_pandas\") else y_test\n",
        "y_pred_cpu = y_pred.to_pandas() if hasattr(y_pred, \"to_pandas\") else y_pred\n",
        "\n",
        "print(\"R²:\", r2_score(y_test_cpu, y_pred_cpu))\n",
        "print(\"MSE:\", mean_squared_error(y_test_cpu, y_pred_cpu))\n",
        "print(\"MAE:\", mean_absolute_error(y_test_cpu, y_pred_cpu))\n"
      ],
      "metadata": {
        "colab": {
          "base_uri": "https://localhost:8080/"
        },
        "id": "VZlT-WTZMjWK",
        "outputId": "ca3c4290-6111-476e-9650-466675092646"
      },
      "execution_count": 24,
      "outputs": [
        {
          "output_type": "stream",
          "name": "stderr",
          "text": [
            "/usr/local/lib/python3.11/dist-packages/cudf/core/dataframe.py:7737: FutureWarning: Using `__dataframe__` is deprecated\n",
            "  warnings.warn(\"Using `__dataframe__` is deprecated\", FutureWarning)\n"
          ]
        },
        {
          "output_type": "stream",
          "name": "stdout",
          "text": [
            "R²: 0.712709550510821\n",
            "MSE: 0.001094289967591171\n",
            "MAE: 0.02773324448692172\n"
          ]
        }
      ]
    },
    {
      "cell_type": "code",
      "source": [
        "import numpy as np\n",
        "# Import garbage collector for memory cleanup\n",
        "import gc\n",
        "\n",
        "from sklearn.metrics import (\n",
        "    mean_squared_error, r2_score, median_absolute_error,\n",
        "    max_error, explained_variance_score\n",
        ")\n",
        "from sklearn.model_selection import KFold\n",
        "from cuml.linear_model import LinearRegression as cuLR\n",
        "from sklearn.linear_model import LinearRegression as skLR\n",
        "\n",
        "\n",
        "def nested_cv_linear_evaluation(X, y, model_class, outer_folds=5, random_state=42):\n",
        "    # Renamed the function to accept a model_class argument\n",
        "    outer_cv = KFold(n_splits=outer_folds, shuffle=True, random_state=random_state)\n",
        "\n",
        "    mse_list = []\n",
        "    r2_list = []\n",
        "    medae_list = []\n",
        "    maxe_list = []\n",
        "    evs_list = []\n",
        "\n",
        "    for fold_idx, (train_idx, test_idx) in enumerate(outer_cv.split(X), 1):\n",
        "        X_tr, X_te = X.iloc[train_idx], X.iloc[test_idx]\n",
        "        y_tr, y_te = y.iloc[train_idx], y.iloc[test_idx]\n",
        "\n",
        "        # Instantiate the model using the provided model_class\n",
        "        model = model_class()\n",
        "        model.fit(X_tr, y_tr)\n",
        "        y_pred = model.predict(X_te)\n",
        "\n",
        "        # Avaliação das métricas\n",
        "        # Ensure the predictions and true values are on the CPU for sklearn metrics\n",
        "        y_te_cpu = y_te.to_pandas() if hasattr(y_te, \"to_pandas\") else y_te\n",
        "        y_pred_cpu = y_pred.to_pandas() if hasattr(y_pred, \"to_pandas\") else y_pred\n",
        "\n",
        "        mse  = float(mean_squared_error(y_te_cpu, y_pred_cpu))\n",
        "        r2   = float(r2_score(y_te_cpu, y_pred_cpu))\n",
        "        med  = float(median_absolute_error(y_te_cpu, y_pred_cpu))\n",
        "        maxe = float(max_error(y_te_cpu, y_pred_cpu))\n",
        "        evs  = float(explained_variance_score(y_te_cpu, y_pred_cpu))\n",
        "\n",
        "\n",
        "        # Armazenamento\n",
        "        mse_list.append(mse)\n",
        "        r2_list.append(r2)\n",
        "        medae_list.append(med)\n",
        "        maxe_list.append(maxe)\n",
        "        evs_list.append(evs)\n",
        "\n",
        "        print(\n",
        "            f\"[Linear] Fold {fold_idx}/{outer_folds} - \"\n",
        "            f\"MSE: {mse:.5f} | R²: {r2:.4f} | MedAE: {med:.4f} | \"\n",
        "            f\"MaxErr: {maxe:.4f} | EVS: {evs:.4f}\"\n",
        "        )\n",
        "\n",
        "        # Limpeza\n",
        "        del model, X_tr, X_te, y_tr, y_te, y_pred, y_te_cpu, y_pred_cpu # Added y_te_cpu and y_pred_cpu to cleanup\n",
        "        gc.collect()\n",
        "        cp.get_default_memory_pool().free_all_blocks()\n",
        "\n",
        "    # Resultados médios\n",
        "    metrics = {\n",
        "        \"MSE\": np.mean(mse_list),\n",
        "        \"R2\": np.mean(r2_list),\n",
        "        \"Median AE\": np.mean(medae_list),\n",
        "        \"Max Error\": np.mean(maxe_list),\n",
        "        \"Explained Variance\": np.mean(evs_list)\n",
        "    }\n",
        "\n",
        "    print(\"\\n[Métricas Médias - Regressão Linear]\")\n",
        "    for k, v in metrics.items():\n",
        "        print(f\"{k}: {v:.4f}\")\n",
        "\n",
        "    return metrics"
      ],
      "metadata": {
        "id": "jChBN6F3Ng7l"
      },
      "execution_count": 25,
      "outputs": []
    },
    {
      "cell_type": "code",
      "source": [
        "# === Dados já carregados como X, y ===\n",
        "\n",
        "# Choose which model class to use based on availability or preference\n",
        "# You might want to add logic here to choose between cuLR and skLR\n",
        "# based on whether cuML failed in the previous cell.\n",
        "# For this example, let's assume cuML is available and works.\n",
        "model_to_evaluate = cuLR\n",
        "\n",
        "# Avaliação do modelo linear com Nested CV (sem tuning)\n",
        "# Pass the model class to the function\n",
        "linear_metrics = nested_cv_linear_evaluation(X, y, model_to_evaluate)\n",
        "print(f\"\\nMSE médio Linear Regression (Nested CV): {linear_metrics['MSE']:.4f}\")\n",
        "\n",
        "# Definição do Random Forest com melhores hiperparâmetros encontrados antes\n",
        "# rf_cls = lambda: cuRF(random_state=42, n_streams=1, **chosen_rf)\n",
        "\n",
        "# Comparação estatística: Linear vs RF\n",
        "# t_stat, p_val = five_two_cv_ttest_gpu(linear_regression_model, rf_cls, X_cudf, y_cudf)\n",
        "# print(f\"\\n5×2-cv t-test (Linear vs RF): t = {t_stat:.4f}, p = {p_val:.4f}\")"
      ],
      "metadata": {
        "colab": {
          "base_uri": "https://localhost:8080/"
        },
        "id": "jc7u4EXWOx2H",
        "outputId": "b15540cb-f6be-4118-ed69-b4e79f9f0049"
      },
      "execution_count": 26,
      "outputs": [
        {
          "output_type": "stream",
          "name": "stderr",
          "text": [
            "/usr/local/lib/python3.11/dist-packages/cudf/core/dataframe.py:7737: FutureWarning: Using `__dataframe__` is deprecated\n",
            "  warnings.warn(\"Using `__dataframe__` is deprecated\", FutureWarning)\n"
          ]
        },
        {
          "output_type": "stream",
          "name": "stdout",
          "text": [
            "[Linear] Fold 1/5 - MSE: 0.00109 | R²: 0.7127 | MedAE: 0.0256 | MaxErr: 0.3347 | EVS: 0.7127\n"
          ]
        },
        {
          "output_type": "stream",
          "name": "stderr",
          "text": [
            "/usr/local/lib/python3.11/dist-packages/cudf/core/dataframe.py:7737: FutureWarning: Using `__dataframe__` is deprecated\n",
            "  warnings.warn(\"Using `__dataframe__` is deprecated\", FutureWarning)\n"
          ]
        },
        {
          "output_type": "stream",
          "name": "stdout",
          "text": [
            "[Linear] Fold 2/5 - MSE: 0.00110 | R²: 0.7124 | MedAE: 0.0257 | MaxErr: 0.2718 | EVS: 0.7124\n"
          ]
        },
        {
          "output_type": "stream",
          "name": "stderr",
          "text": [
            "/usr/local/lib/python3.11/dist-packages/cudf/core/dataframe.py:7737: FutureWarning: Using `__dataframe__` is deprecated\n",
            "  warnings.warn(\"Using `__dataframe__` is deprecated\", FutureWarning)\n"
          ]
        },
        {
          "output_type": "stream",
          "name": "stdout",
          "text": [
            "[Linear] Fold 3/5 - MSE: 0.00109 | R²: 0.7128 | MedAE: 0.0256 | MaxErr: 0.2082 | EVS: 0.7128\n"
          ]
        },
        {
          "output_type": "stream",
          "name": "stderr",
          "text": [
            "/usr/local/lib/python3.11/dist-packages/cudf/core/dataframe.py:7737: FutureWarning: Using `__dataframe__` is deprecated\n",
            "  warnings.warn(\"Using `__dataframe__` is deprecated\", FutureWarning)\n"
          ]
        },
        {
          "output_type": "stream",
          "name": "stdout",
          "text": [
            "[Linear] Fold 4/5 - MSE: 0.00109 | R²: 0.7123 | MedAE: 0.0256 | MaxErr: 0.2180 | EVS: 0.7123\n"
          ]
        },
        {
          "output_type": "stream",
          "name": "stderr",
          "text": [
            "/usr/local/lib/python3.11/dist-packages/cudf/core/dataframe.py:7737: FutureWarning: Using `__dataframe__` is deprecated\n",
            "  warnings.warn(\"Using `__dataframe__` is deprecated\", FutureWarning)\n"
          ]
        },
        {
          "output_type": "stream",
          "name": "stdout",
          "text": [
            "[Linear] Fold 5/5 - MSE: 0.00109 | R²: 0.7126 | MedAE: 0.0256 | MaxErr: 0.2560 | EVS: 0.7126\n",
            "\n",
            "[Métricas Médias - Regressão Linear]\n",
            "MSE: 0.0011\n",
            "R2: 0.7126\n",
            "Median AE: 0.0256\n",
            "Max Error: 0.2577\n",
            "Explained Variance: 0.7126\n",
            "\n",
            "MSE médio Linear Regression (Nested CV): 0.0011\n"
          ]
        }
      ]
    },
    {
      "cell_type": "code",
      "source": [
        "import time\n",
        "\n",
        "def measure_inference_time(model, X_test, n_repeats=5):\n",
        "    \"\"\"\n",
        "    Mede o tempo médio de inferência por amostra.\n",
        "    Repete a medição 'n_repeats' vezes para reduzir ruído.\n",
        "    \"\"\"\n",
        "    total_times = []\n",
        "    for _ in range(n_repeats):\n",
        "        start = time.perf_counter()\n",
        "        y_pred = model.predict(X_test)\n",
        "        end = time.perf_counter()\n",
        "        total_times.append(end - start)\n",
        "\n",
        "    avg_total_time = sum(total_times) / len(total_times)\n",
        "    time_per_sample = avg_total_time / len(X_test)\n",
        "    return time_per_sample\n"
      ],
      "metadata": {
        "id": "U-D49Vt7PxvP"
      },
      "execution_count": 27,
      "outputs": []
    },
    {
      "cell_type": "code",
      "source": [
        "# Após modelo.fit(...)\n",
        "X_test_eval = X_test.to_pandas() if hasattr(X_test, \"to_pandas\") else X_test\n",
        "inference_time = measure_inference_time(linear_regression_model, X_test_eval)\n",
        "print(f\"Tempo médio de inferência por amostra (Linear): {inference_time * 1000:.9f} ms\")\n"
      ],
      "metadata": {
        "colab": {
          "base_uri": "https://localhost:8080/"
        },
        "id": "AWetqLRSP0Mk",
        "outputId": "03925106-0ef5-4f5e-a4d6-f5300b310dea"
      },
      "execution_count": 28,
      "outputs": [
        {
          "output_type": "stream",
          "name": "stdout",
          "text": [
            "Tempo médio de inferência por amostra (Linear): 0.000040349 ms\n"
          ]
        }
      ]
    },
    {
      "cell_type": "code",
      "source": [
        "import torch\n",
        "import torch.nn as nn\n",
        "import torch.optim as optim\n",
        "from sklearn.model_selection import train_test_split\n",
        "from sklearn.metrics import mean_squared_error, r2_score\n",
        "import cudf\n",
        "import cupy as cp\n",
        "import numpy as np\n",
        "\n",
        "\n",
        "\n",
        "# Conversão para float32\n",
        "for col in df_cudf.select_dtypes(include=['float64']).columns:\n",
        "    df_cudf[col] = df_cudf[col].astype(cp.float32)\n",
        "\n",
        "X = df_cudf.iloc[:, :-1].to_pandas().values.astype(np.float32)\n",
        "y = df_cudf.iloc[:, -1].to_pandas().values.astype(np.float32).reshape(-1, 1)\n",
        "\n",
        "# ====================\n",
        "# 2. Divisão treino/teste\n",
        "# ====================\n",
        "X_train, X_test, y_train, y_test = train_test_split(X, y, test_size=0.2, random_state=42)\n",
        "\n",
        "# Tensores para GPU\n",
        "device = torch.device(\"cuda\" if torch.cuda.is_available() else \"cpu\")\n",
        "X_train_tensor = torch.from_numpy(X_train).to(device)\n",
        "y_train_tensor = torch.from_numpy(y_train).to(device)\n",
        "X_test_tensor  = torch.from_numpy(X_test).to(device)\n",
        "y_test_tensor  = torch.from_numpy(y_test).to(device)\n",
        "\n",
        "# ====================\n",
        "# 3. Definição do MLP\n",
        "# ====================\n",
        "class SmallMLP(nn.Module):\n",
        "    def __init__(self, input_dim):\n",
        "        super().__init__()\n",
        "        self.model = nn.Sequential(\n",
        "            nn.Linear(input_dim, 64),\n",
        "            nn.ReLU(),\n",
        "            nn.Linear(64, 32),\n",
        "            nn.ReLU(),\n",
        "            nn.Linear(32, 1)\n",
        "        )\n",
        "\n",
        "    def forward(self, x):\n",
        "        return self.model(x)\n",
        "\n",
        "model = SmallMLP(X_train.shape[1]).to(device)\n",
        "\n",
        "# ====================\n",
        "# 4. Treinamento\n",
        "# ====================\n",
        "optimizer = optim.Adam(model.parameters(), lr=0.001)\n",
        "loss_fn = nn.MSELoss()\n",
        "n_epochs = 50\n",
        "batch_size = 1024\n",
        "\n",
        "for epoch in range(n_epochs):\n",
        "    model.train()\n",
        "    permutation = torch.randperm(X_train_tensor.size()[0])\n",
        "    for i in range(0, X_train_tensor.size()[0], batch_size):\n",
        "        indices = permutation[i:i+batch_size]\n",
        "        batch_x, batch_y = X_train_tensor[indices], y_train_tensor[indices]\n",
        "\n",
        "        optimizer.zero_grad()\n",
        "        outputs = model(batch_x)\n",
        "        loss = loss_fn(outputs, batch_y)\n",
        "        loss.backward()\n",
        "        optimizer.step()\n",
        "\n",
        "    print(f\"Epoch {epoch+1}/{n_epochs} - Loss: {loss.item():.6f}\")\n",
        "\n",
        "# ====================\n",
        "# 5. Avaliação\n",
        "# ====================\n",
        "model.eval()\n",
        "with torch.no_grad():\n",
        "    y_pred_tensor = model(X_test_tensor)\n",
        "    y_pred = y_pred_tensor.cpu().numpy()\n",
        "    y_true = y_test_tensor.cpu().numpy()\n",
        "\n",
        "print(\"\\n[Métricas - MLP]\")\n",
        "print(\"MSE:\", mean_squared_error(y_true, y_pred))\n",
        "print(\"R²:\", r2_score(y_true, y_pred))\n",
        "\n",
        "# ====================\n",
        "# 6. Tempo de Inferência\n",
        "# ====================\n",
        "import time\n",
        "\n",
        "with torch.no_grad():\n",
        "    start = time.perf_counter()\n",
        "    _ = model(X_test_tensor)\n",
        "    torch.cuda.synchronize()  # garante sincronização GPU\n",
        "    end = time.perf_counter()\n",
        "\n",
        "inference_time = (end - start) / len(X_test_tensor)\n",
        "print(f\"Tempo médio de inferência por amostra: {inference_time * 1000:.6f} ms\")\n"
      ],
      "metadata": {
        "colab": {
          "base_uri": "https://localhost:8080/"
        },
        "id": "qUdtjy5rToZy",
        "outputId": "fc2f038e-d777-4e9f-adc1-f1d829c6addf"
      },
      "execution_count": 22,
      "outputs": [
        {
          "output_type": "stream",
          "name": "stdout",
          "text": [
            "Epoch 1/50 - Loss: 0.001583\n",
            "Epoch 2/50 - Loss: 0.000920\n",
            "Epoch 3/50 - Loss: 0.001458\n",
            "Epoch 4/50 - Loss: 0.000620\n",
            "Epoch 5/50 - Loss: 0.000786\n",
            "Epoch 6/50 - Loss: 0.000749\n",
            "Epoch 7/50 - Loss: 0.000763\n",
            "Epoch 8/50 - Loss: 0.000780\n",
            "Epoch 9/50 - Loss: 0.000535\n",
            "Epoch 10/50 - Loss: 0.000601\n",
            "Epoch 11/50 - Loss: 0.000608\n",
            "Epoch 12/50 - Loss: 0.000501\n",
            "Epoch 13/50 - Loss: 0.000671\n",
            "Epoch 14/50 - Loss: 0.000550\n",
            "Epoch 15/50 - Loss: 0.000610\n",
            "Epoch 16/50 - Loss: 0.000656\n",
            "Epoch 17/50 - Loss: 0.000659\n",
            "Epoch 18/50 - Loss: 0.000681\n",
            "Epoch 19/50 - Loss: 0.000505\n",
            "Epoch 20/50 - Loss: 0.000631\n",
            "Epoch 21/50 - Loss: 0.000739\n",
            "Epoch 22/50 - Loss: 0.000481\n",
            "Epoch 23/50 - Loss: 0.000542\n",
            "Epoch 24/50 - Loss: 0.000748\n",
            "Epoch 25/50 - Loss: 0.000557\n",
            "Epoch 26/50 - Loss: 0.000597\n",
            "Epoch 27/50 - Loss: 0.000576\n",
            "Epoch 28/50 - Loss: 0.000474\n",
            "Epoch 29/50 - Loss: 0.000644\n",
            "Epoch 30/50 - Loss: 0.000452\n",
            "Epoch 31/50 - Loss: 0.000582\n",
            "Epoch 32/50 - Loss: 0.000611\n",
            "Epoch 33/50 - Loss: 0.000611\n",
            "Epoch 34/50 - Loss: 0.000526\n",
            "Epoch 35/50 - Loss: 0.000534\n",
            "Epoch 36/50 - Loss: 0.000514\n",
            "Epoch 37/50 - Loss: 0.000569\n",
            "Epoch 38/50 - Loss: 0.000523\n",
            "Epoch 39/50 - Loss: 0.000563\n",
            "Epoch 40/50 - Loss: 0.000532\n",
            "Epoch 41/50 - Loss: 0.000621\n",
            "Epoch 42/50 - Loss: 0.000445\n",
            "Epoch 43/50 - Loss: 0.000622\n",
            "Epoch 44/50 - Loss: 0.000775\n",
            "Epoch 45/50 - Loss: 0.000516\n",
            "Epoch 46/50 - Loss: 0.000538\n",
            "Epoch 47/50 - Loss: 0.000515\n",
            "Epoch 48/50 - Loss: 0.000656\n",
            "Epoch 49/50 - Loss: 0.000522\n",
            "Epoch 50/50 - Loss: 0.000523\n",
            "\n",
            "[Métricas - MLP]\n",
            "MSE: 0.0005617248243652284\n",
            "R²: 0.8525270819664001\n",
            "Tempo médio de inferência por amostra: 0.000019 ms\n"
          ]
        }
      ]
    }
  ]
}